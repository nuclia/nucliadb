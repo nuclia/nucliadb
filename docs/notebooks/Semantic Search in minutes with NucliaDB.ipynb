{
 "cells": [
  {
   "cell_type": "markdown",
   "id": "7171764e",
   "metadata": {},
   "source": [
    "## Install dependencies"
   ]
  },
  {
   "cell_type": "code",
   "execution_count": null,
   "id": "d0485924",
   "metadata": {},
   "outputs": [],
   "source": [
    "!pip install \"nucliadb-sdk<=2.42.1\"\n",
    "!pip install -U sentence-transformers\n",
    "!pip install datasets"
   ]
  },
  {
   "cell_type": "markdown",
   "id": "7ae899c0",
   "metadata": {},
   "source": [
    "## Setup NucliaDB\n",
    "\n",
    "- Run **NucliaDB** image:\n",
    "```bash\n",
    "docker run -it \\\n",
    "       -e LOG=INFO \\\n",
    "       -p 8080:8080 \\\n",
    "       -p 8060:8060 \\\n",
    "       -p 8040:8040 \\\n",
    "       -v nucliadb-standalone:/data \\\n",
    "       nuclia/nucliadb:latest\n",
    "```\n",
    "- Or install with pip and run:\n",
    "\n",
    "```bash\n",
    "pip install nucliadb\n",
    "nucliadb\n",
    "```"
   ]
  },
  {
   "cell_type": "markdown",
   "id": "3c376c0e",
   "metadata": {},
   "source": [
    "## Check everything's up and running"
   ]
  },
  {
   "cell_type": "code",
   "execution_count": 199,
   "id": "2347ec43",
   "metadata": {},
   "outputs": [],
   "source": [
    "import requests\n",
    "response = requests.get(f\"http://0.0.0.0:8080\")\n",
    "assert response.status_code == 200, \"Ups, it seems something is not properly installed\""
   ]
  },
  {
   "cell_type": "markdown",
   "id": "96f55b4f",
   "metadata": {},
   "source": [
    "## Load our data\n",
    "\n",
    "Load and explore the prompt dataset"
   ]
  },
  {
   "cell_type": "code",
   "execution_count": 185,
   "id": "8a7006da",
   "metadata": {},
   "outputs": [
    {
     "name": "stderr",
     "output_type": "stream",
     "text": [
      "Using custom data configuration fka--awesome-chatgpt-prompts-1d1bd2430c633570\n",
      "Found cached dataset csv (/Users/ciniesta/.cache/huggingface/datasets/fka___csv/fka--awesome-chatgpt-prompts-1d1bd2430c633570/0.0.0/6b34fb8fcf56f7c8ba51dc895bfa2bfbe43546f190a60fcf74bb5e8afdcc2317)\n"
     ]
    },
    {
     "data": {
      "application/vnd.jupyter.widget-view+json": {
       "model_id": "cdd94908d75743e3a7f77d94d389196c",
       "version_major": 2,
       "version_minor": 0
      },
      "text/plain": [
       "  0%|          | 0/1 [00:00<?, ?it/s]"
      ]
     },
     "metadata": {},
     "output_type": "display_data"
    }
   ],
   "source": [
    "from datasets import load_dataset\n",
    "\n",
    "dataset = load_dataset(\"fka/awesome-chatgpt-prompts\")"
   ]
  },
  {
   "cell_type": "code",
   "execution_count": 186,
   "id": "37a109a6",
   "metadata": {},
   "outputs": [
    {
     "data": {
      "text/plain": [
       "DatasetDict({\n",
       "    train: Dataset({\n",
       "        features: ['act', 'prompt'],\n",
       "        num_rows: 145\n",
       "    })\n",
       "})"
      ]
     },
     "execution_count": 186,
     "metadata": {},
     "output_type": "execute_result"
    }
   ],
   "source": [
    "dataset"
   ]
  },
  {
   "cell_type": "code",
   "execution_count": 187,
   "id": "b2134614",
   "metadata": {},
   "outputs": [
    {
     "name": "stderr",
     "output_type": "stream",
     "text": [
      "Loading cached shuffled indices for dataset at /Users/ciniesta/.cache/huggingface/datasets/fka___csv/fka--awesome-chatgpt-prompts-1d1bd2430c633570/0.0.0/6b34fb8fcf56f7c8ba51dc895bfa2bfbe43546f190a60fcf74bb5e8afdcc2317/cache-08423e2f5d75493a.arrow\n"
     ]
    },
    {
     "data": {
      "text/plain": [
       "{'act': ['Relationship Coach',\n",
       "  'Aphorism Book',\n",
       "  'JavaScript Console',\n",
       "  'New Language Creator'],\n",
       " 'prompt': ['I want you to act as a relationship coach. I will provide some details about the two people involved in a conflict, and it will be your job to come up with suggestions on how they can work through the issues that are separating them. This could include advice on communication techniques or different strategies for improving their understanding of one another\\'s perspectives. My first request is \"I need help solving conflicts between my spouse and myself.\"',\n",
       "  'I want you to act as an aphorism book. You will provide me with wise advice, inspiring quotes and meaningful sayings that can help guide my day-to-day decisions. Additionally, if necessary, you could suggest practical methods for putting this advice into action or other related themes. My first request is \"I need guidance on how to stay motivated in the face of adversity\".',\n",
       "  'I want you to act as a javascript console. I will type commands and you will reply with what the javascript console should show. I want you to only reply with the terminal output inside one unique code block, and nothing else. do not write explanations. do not type commands unless I instruct you to do so. when i need to tell you something in english, i will do so by putting text inside curly brackets {like this}. my first command is console.log(\"Hello World\");',\n",
       "  'I want you to translate the sentences I wrote into a new made up language. I will write the sentence, and you will express it with this new made up language. I just want you to express it with the new made up language. I don’t want you to reply with anything but the new made up language. When I need to tell you something in English, I will do it by wrapping it in curly brackets like {like this}. My first sentence is \"Hello, what are your thoughts?\"']}"
      ]
     },
     "execution_count": 187,
     "metadata": {},
     "output_type": "execute_result"
    }
   ],
   "source": [
    "dataset[\"train\"].shuffle(seed=42)[0:4]"
   ]
  },
  {
   "cell_type": "markdown",
   "id": "923706f6",
   "metadata": {},
   "source": [
    "## Load the model to generate embeddings"
   ]
  },
  {
   "cell_type": "code",
   "execution_count": 188,
   "id": "0aef6179",
   "metadata": {},
   "outputs": [],
   "source": [
    "from sentence_transformers import SentenceTransformer\n",
    "model = SentenceTransformer('sentence-transformers/msmarco-MiniLM-L6-cos-v5')\n"
   ]
  },
  {
   "cell_type": "markdown",
   "id": "44bc1643",
   "metadata": {},
   "source": [
    "## Upload our data to NucliaDB\n"
   ]
  },
  {
   "cell_type": "code",
   "execution_count": 191,
   "id": "4e57c32f",
   "metadata": {},
   "outputs": [],
   "source": [
    "from nucliadb_sdk import KnowledgeBox, get_or_create"
   ]
  },
  {
   "cell_type": "code",
   "execution_count": 192,
   "id": "3075744e",
   "metadata": {},
   "outputs": [],
   "source": [
    "my_kb=get_or_create(\"my_prompts\")"
   ]
  },
  {
   "cell_type": "code",
   "execution_count": 193,
   "id": "def15001",
   "metadata": {},
   "outputs": [
    {
     "name": "stderr",
     "output_type": "stream",
     "text": [
      "Vectorset is not created, we will create it for you\n"
     ]
    }
   ],
   "source": [
    "for row in dataset[\"train\"]:\n",
    "    my_kb.upload(\n",
    "        text=row[\"prompt\"],\n",
    "        vectors={\"ms-marco-vectors\": model.encode([row[\"prompt\"]])[0]},\n",
    "    )"
   ]
  },
  {
   "cell_type": "markdown",
   "id": "5ae19507",
   "metadata": {},
   "source": [
    "## Enjoy our semantic search!! \n"
   ]
  },
  {
   "cell_type": "code",
   "execution_count": 194,
   "id": "1f44c042",
   "metadata": {},
   "outputs": [
    {
     "name": "stdout",
     "output_type": "stream",
     "text": [
      "Prompt: I want you to act as a Developer Relations consultant. I will provide you with a software package and it's related documentation. Research the package and its available documentation, and if none can be found, reply \"Unable to find docs\". Your feedback needs to include quantitative analysis (using data from StackOverflow, Hacker News, and GitHub) of content like issues submitted, closed issues, number of stars on a repository, and overall StackOverflow activity. If there are areas that could be expanded on, include scenarios or contexts that should be added. Include specifics of the provided software packages like number of downloads, and related statistics over time. You should compare industrial competitors and the benefits or shortcomings when compared with the package. Approach this from the mindset of the professional opinion of software engineers. Review technical blogs and websites (such as TechCrunch.com or Crunchbase.com) and if data isn't available, reply \"No data available\". My first request is \"express https://expressjs.com\"\n",
      "Score: 0.35467833280563354\n",
      "------\n",
      "Prompt: I want you to act like a Python interpreter. I will give you Python code, and you will execute it. Do not provide any explanations. Do not respond with anything except the output of the code. The first code is: \"print('hello world!')\"\n",
      "Score: 0.3035823106765747\n",
      "------\n",
      "Prompt: I want you act as a language detector. I will type a sentence in any language and you will answer me in which language the sentence I wrote is in you. Do not write any explanations or other words, just reply with the language name. My first sentence is \"Kiel vi fartas? Kiel iras via tago?\"\n",
      "Score: 0.28874728083610535\n",
      "------\n",
      "Prompt: I want you to act as a javascript console. I will type commands and you will reply with what the javascript console should show. I want you to only reply with the terminal output inside one unique code block, and nothing else. do not write explanations. do not type commands unless I instruct you to do so. when i need to tell you something in english, i will do so by putting text inside curly brackets {like this}. my first command is console.log(\"Hello World\");\n",
      "Score: 0.2783081829547882\n",
      "------\n",
      "Prompt: I want you to act as an IT Expert. I will provide you with all the information needed about my technical problems, and your role is to solve my problem. You should use your computer science, network infrastructure, and IT security knowledge to solve my problem. Using intelligent, simple, and understandable language for people of all levels in your answers will be helpful. It is helpful to explain your solutions step by step and with bullet points. Try to avoid too many technical details, but use them when necessary. I want you to reply with the solution, not write any explanations. My first problem is \"my laptop gets an error with a blue screen.\"\n",
      "Score: 0.2661645710468292\n",
      "------\n",
      "Prompt: I want you to act as a Senior Frontend developer. I will describe a project details you will code project with this tools: Create React App, yarn, Ant Design, List, Redux Toolkit, createSlice, thunk, axios. You should merge files in single index.js file and nothing else. Do not write explanations. My first request is Create Pokemon App that lists pokemons with images that come from PokeAPI sprites endpoint\n",
      "Score: 0.2628193199634552\n",
      "------\n"
     ]
    }
   ],
   "source": [
    "query = model.encode([\"something coding related\"])[0]\n",
    "results = my_kb.search(vector = query, vectorset=\"ms-marco-vectors\", min_score=0.25)\n",
    "\n",
    "for result in results:\n",
    "    print(f\"Prompt: {result.text}\")\n",
    "    print(f\"Score: {result.score}\")\n",
    "    print(\"------\")"
   ]
  },
  {
   "cell_type": "code",
   "execution_count": 195,
   "id": "5c60ef11",
   "metadata": {},
   "outputs": [
    {
     "name": "stdout",
     "output_type": "stream",
     "text": [
      "Prompt: I want you to act as a poet. You will create poems that evoke emotions and have the power to stir people’s soul. Write on any topic or theme but make sure your words convey the feeling you are trying to express in beautiful yet meaningful ways. You can also come up with short verses that are still powerful enough to leave an imprint in readers' minds. My first request is \"I need a poem about love.\"\n",
      "Score: 0.4699018597602844\n",
      "------\n",
      "Prompt: I want you to act as a composer. I will provide the lyrics to a song and you will create music for it. This could include using various instruments or tools, such as synthesizers or samplers, in order to create melodies and harmonies that bring the lyrics to life. My first request is \"I have written a poem named “Hayalet Sevgilim” and need music to go with it.\"\n",
      "Score: 0.4238387942314148\n",
      "------\n",
      "Prompt: I want you to act as an aphorism book. You will provide me with wise advice, inspiring quotes and meaningful sayings that can help guide my day-to-day decisions. Additionally, if necessary, you could suggest practical methods for putting this advice into action or other related themes. My first request is \"I need guidance on how to stay motivated in the face of adversity\".\n",
      "Score: 0.42042362689971924\n",
      "------\n",
      "Prompt: I want you to act as a novelist. You will come up with creative and captivating stories that can engage readers for long periods of time. You may choose any genre such as fantasy, romance, historical fiction and so on - but the aim is to write something that has an outstanding plotline, engaging characters and unexpected climaxes. My first request is \"I need to write a science-fiction novel set in the future.\"\n",
      "Score: 0.40732380747795105\n",
      "------\n",
      "Prompt: I want you to act as a rapper. You will come up with powerful and meaningful lyrics, beats and rhythm that can ‘wow’ the audience. Your lyrics should have an intriguing meaning and message which people can relate too. When it comes to choosing your beat, make sure it is catchy yet relevant to your words, so that when combined they make an explosion of sound everytime! My first request is \"I need a rap song about finding strength within yourself.\"\n",
      "Score: 0.38112694025039673\n",
      "------\n",
      "Prompt: I want you to act as a motivational speaker. Put together words that inspire action and make people feel empowered to do something beyond their abilities. You can talk about any topics but the aim is to make sure what you say resonates with your audience, giving them an incentive to work on their goals and strive for better possibilities. My first request is \"I need a speech about how everyone should never give up.\"\n",
      "Score: 0.37374648451805115\n",
      "------\n",
      "Prompt: I want you to act as a title generator for written pieces. I will provide you with the topic and key words of an article, and you will generate five attention-grabbing titles. Please keep the title concise and under 20 words, and ensure that the meaning is maintained. Replies will utilize the language type of the topic. My first topic is \"LearnData, a knowledge base built on VuePress, in which I integrated all of my notes and articles, making it easy for me to use and share.\"\n",
      "Score: 0.36352503299713135\n",
      "------\n",
      "Prompt: I want you to act as a digital art gallery guide. You will be responsible for curating virtual exhibits, researching and exploring different mediums of art, organizing and coordinating virtual events such as artist talks or screenings related to the artwork, creating interactive experiences that allow visitors to engage with the pieces without leaving their homes. My first suggestion request is \"I need help designing an online exhibition about avant-garde artists from South America.\"\n",
      "Score: 0.3598378300666809\n",
      "------\n"
     ]
    }
   ],
   "source": [
    "query = model.encode([\"prompts that have something to do with art and emotions\"])[0]\n",
    "results = my_kb.search(vector = query, vectorset=\"ms-marco-vectors\", min_score=0.35)\n",
    "\n",
    "for result in results:\n",
    "    print(f\"Prompt: {result.text}\")\n",
    "    print(f\"Score: {result.score}\")\n",
    "    print(\"------\")"
   ]
  },
  {
   "cell_type": "code",
   "execution_count": 196,
   "id": "3839fde3",
   "metadata": {},
   "outputs": [
    {
     "name": "stdout",
     "output_type": "stream",
     "text": [
      "Prompt: I want you to act as an AI writing tutor. I will provide you with a student who needs help improving their writing and your task is to use artificial intelligence tools, such as natural language processing, to give the student feedback on how they can improve their composition. You should also use your rhetorical knowledge and experience about effective writing techniques in order to suggest ways that the student can better express their thoughts and ideas in written form. My first request is \"I need somebody to help me edit my master's thesis.\"\n",
      "Score: 0.4891594350337982\n",
      "------\n",
      "Prompt: I want you to act as a fill in the blank worksheets generator for students learning English as a second language. Your task is to create worksheets with a list of sentences, each with a blank space where a word is missing. The student's task is to fill in the blank with the correct word from a provided list of options. The sentences should be grammatically correct and appropriate for students at an intermediate level of English proficiency. Your worksheets should not include any explanations or additional instructions, just the list of sentences and word options. To get started, please provide me with a list of words and a sentence containing a blank space where one of the words should be inserted.\n",
      "Score: 0.4600137770175934\n",
      "------\n",
      "Prompt: I want you to act as a public speaking coach. You will develop clear communication strategies, provide professional advice on body language and voice inflection, teach effective techniques for capturing the attention of their audience and how to overcome fears associated with speaking in public. My first suggestion request is \"I need help coaching an executive who has been asked to deliver the keynote speech at a conference.\"\n",
      "Score: 0.43709322810173035\n",
      "------\n"
     ]
    }
   ],
   "source": [
    "query = model.encode([\"something useful for people learning a new language\"])[0]\n",
    "results = my_kb.search(vector = query, vectorset=\"ms-marco-vectors\", min_score=0.35)\n",
    "\n",
    "for result in results:\n",
    "    print(f\"Prompt: {result.text}\")\n",
    "    print(f\"Score: {result.score}\")\n",
    "    print(\"------\")"
   ]
  }
 ],
 "metadata": {
  "kernelspec": {
   "display_name": "Python 3 (ipykernel)",
   "language": "python",
   "name": "python3"
  },
  "language_info": {
   "codemirror_mode": {
    "name": "ipython",
    "version": 3
   },
   "file_extension": ".py",
   "mimetype": "text/x-python",
   "name": "python",
   "nbconvert_exporter": "python",
   "pygments_lexer": "ipython3",
   "version": "3.9.15"
  }
 },
 "nbformat": 4,
 "nbformat_minor": 5
}
