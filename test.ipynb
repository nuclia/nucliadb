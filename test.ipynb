{
 "cells": [
  {
   "cell_type": "code",
   "execution_count": 2,
   "metadata": {},
   "outputs": [],
   "source": [
    "from nucliadb_protos.resources_pb2 import Basic, UserFieldMetadata, ParagraphAnnotation, Classification\n",
    "\n",
    "basic = Basic()\n",
    "\n",
    "userfieldmetadata = UserFieldMetadata()\n",
    "\n",
    "userfieldmetadata.field.field = \"text\"\n",
    "userfieldmetadata.field.field_type = 1\n",
    "\n",
    "phb = ParagraphAnnotation(key=\"asd\")\n",
    "phb.classifications.append(Classification(labelset=\"123\", label=\"132\"))\n",
    "\n",
    "userfieldmetadata.paragraphs.append(phb)\n",
    "basic.fieldmetadata.append(userfieldmetadata)"
   ]
  }
 ],
 "metadata": {
  "kernelspec": {
   "display_name": "Python 3.9.7 64-bit ('nucliadb')",
   "language": "python",
   "name": "python3"
  },
  "language_info": {
   "codemirror_mode": {
    "name": "ipython",
    "version": 3
   },
   "file_extension": ".py",
   "mimetype": "text/x-python",
   "name": "python",
   "nbconvert_exporter": "python",
   "pygments_lexer": "ipython3",
   "version": "3.9.7"
  },
  "orig_nbformat": 4,
  "vscode": {
   "interpreter": {
    "hash": "75c506b5d1c4734b7635699fb9da45429dcf97716749de2546e629d0424abfd8"
   }
  }
 },
 "nbformat": 4,
 "nbformat_minor": 2
}
