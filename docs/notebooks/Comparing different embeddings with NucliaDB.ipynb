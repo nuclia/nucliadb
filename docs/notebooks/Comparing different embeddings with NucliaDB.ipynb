{
 "cells": [
  {
   "cell_type": "markdown",
   "id": "9f499161",
   "metadata": {},
   "source": [
    "## Install dependencies"
   ]
  },
  {
   "cell_type": "code",
   "execution_count": null,
   "id": "caeaf37c",
   "metadata": {},
   "outputs": [],
   "source": [
    "! pip install \"nucliadb-sdk<=2.42.1\"\n",
    "! pip install -U sentence-transformers\n",
    "! pip install datasets\n",
    "! pip install InstructorEmbedding"
   ]
  },
  {
   "cell_type": "markdown",
   "id": "19f70326",
   "metadata": {},
   "source": [
    "## Setup NucliaDB\n",
    "\n",
    "- Run **NucliaDB** image:\n",
    "```bash\n",
    "docker run -it \\\n",
    "       -e LOG=INFO \\\n",
    "       -p 8080:8080 \\\n",
    "       -p 8060:8060 \\\n",
    "       -p 8040:8040 \\\n",
    "       -v nucliadb-standalone:/data \\\n",
    "       nuclia/nucliadb:latest\n",
    "```\n",
    "- Or install with pip and run:\n",
    "\n",
    "```bash\n",
    "pip install nucliadb\n",
    "nucliadb\n",
    "```"
   ]
  },
  {
   "cell_type": "markdown",
   "id": "3cf2a673",
   "metadata": {},
   "source": [
    "## Check everything's up and running"
   ]
  },
  {
   "cell_type": "code",
   "execution_count": 1,
   "id": "97fb3982",
   "metadata": {},
   "outputs": [
    {
     "name": "stderr",
     "output_type": "stream",
     "text": [
      "/Users/ciniesta/.pyenv/versions/3.9.15/envs/learning/lib/python3.9/site-packages/requests/__init__.py:102: RequestsDependencyWarning: urllib3 (1.26.14) or chardet (5.1.0)/charset_normalizer (2.0.12) doesn't match a supported version!\n",
      "  warnings.warn(\"urllib3 ({}) or chardet ({})/charset_normalizer ({}) doesn't match a supported \"\n"
     ]
    }
   ],
   "source": [
    "import requests\n",
    "response = requests.get(f\"http://0.0.0.0:8080\")\n",
    "\n",
    "assert response.status_code == 200, \"Ups, it seems something is not properly installed\""
   ]
  },
  {
   "cell_type": "markdown",
   "id": "03b3e412",
   "metadata": {},
   "source": [
    "## Load our data\n",
    "\n",
    "Load and explore the prompt dataset"
   ]
  },
  {
   "cell_type": "code",
   "execution_count": 2,
   "id": "f18a5dcc",
   "metadata": {},
   "outputs": [
    {
     "name": "stderr",
     "output_type": "stream",
     "text": [
      "/Users/ciniesta/.pyenv/versions/3.9.15/envs/learning/lib/python3.9/site-packages/tqdm/auto.py:22: TqdmWarning: IProgress not found. Please update jupyter and ipywidgets. See https://ipywidgets.readthedocs.io/en/stable/user_install.html\n",
      "  from .autonotebook import tqdm as notebook_tqdm\n",
      "Found cached dataset stackexchange_titlebody_best_and_down_voted_answer_jsonl (/Users/ciniesta/.cache/huggingface/datasets/flax-sentence-embeddings___stackexchange_titlebody_best_and_down_voted_answer_jsonl/outdoors/1.1.0/a767719a162391b61f7fecca12b41572102b8cf2909d9c06f55eb7a70c7aa579)\n",
      "100%|████████████████████████████████████████████████████████████████████████████████████████████████████████| 1/1 [00:00<00:00, 194.67it/s]\n"
     ]
    }
   ],
   "source": [
    "from datasets import load_dataset\n",
    "\n",
    "\n",
    "dataset = load_dataset(\"flax-sentence-embeddings/stackexchange_titlebody_best_and_down_voted_answer_jsonl\",\"outdoors\")"
   ]
  },
  {
   "cell_type": "code",
   "execution_count": 3,
   "id": "4514806d",
   "metadata": {},
   "outputs": [
    {
     "data": {
      "text/plain": [
       "DatasetDict({\n",
       "    train: Dataset({\n",
       "        features: ['title_body', 'upvoted_answer', 'downvoted_answer'],\n",
       "        num_rows: 221\n",
       "    })\n",
       "})"
      ]
     },
     "execution_count": 3,
     "metadata": {},
     "output_type": "execute_result"
    }
   ],
   "source": [
    "dataset"
   ]
  },
  {
   "cell_type": "markdown",
   "id": "6d5df811",
   "metadata": {},
   "source": [
    "## Load the models to generate embeddings\n",
    "\n",
    "In this case we are using Instructor and MSMARCO\n",
    "\n",
    "Instructor is an LLM to which we can indicate with instructions the kind of embeddings we want to generate"
   ]
  },
  {
   "cell_type": "code",
   "execution_count": 4,
   "id": "fc7e55f1",
   "metadata": {},
   "outputs": [],
   "source": [
    "from sentence_transformers import SentenceTransformer\n",
    "model_marco = SentenceTransformer('sentence-transformers/msmarco-MiniLM-L6-cos-v5')\n"
   ]
  },
  {
   "cell_type": "code",
   "execution_count": 5,
   "id": "c2d0a644",
   "metadata": {},
   "outputs": [
    {
     "name": "stdout",
     "output_type": "stream",
     "text": [
      "load INSTRUCTOR_Transformer\n",
      "max_seq_length  512\n"
     ]
    }
   ],
   "source": [
    "from InstructorEmbedding import INSTRUCTOR\n",
    "model_instructor = INSTRUCTOR('hkunlp/instructor-base')\n",
    "instruction_query = \"Represent the question for retrieving relevant outdoors related posts:\"\n",
    "instruction_posts= \"Represent the outdoors related post for retrieval:\""
   ]
  },
  {
   "cell_type": "markdown",
   "id": "18fee1cb",
   "metadata": {},
   "source": [
    "## Upload our data to NucliaDB\n"
   ]
  },
  {
   "cell_type": "code",
   "execution_count": 6,
   "id": "e87813e4",
   "metadata": {},
   "outputs": [],
   "source": [
    "from nucliadb_sdk import KnowledgeBox,get_or_create\n"
   ]
  },
  {
   "cell_type": "code",
   "execution_count": 7,
   "id": "26cf0d39",
   "metadata": {},
   "outputs": [],
   "source": [
    "my_kb=get_or_create(\"my_outdoors_kb\")\n"
   ]
  },
  {
   "cell_type": "code",
   "execution_count": 8,
   "id": "8495faec",
   "metadata": {},
   "outputs": [
    {
     "name": "stderr",
     "output_type": "stream",
     "text": [
      "Vectorset is not created, we will create it for you\n",
      "Vectorset is not created, we will create it for you\n"
     ]
    }
   ],
   "source": [
    "for row in dataset[\"train\"]:\n",
    "    my_kb.upload(\n",
    "        text=row[\"upvoted_answer\"],\n",
    "        vectors={\"ms-marco-vectors\": model_marco.encode([row[\"upvoted_answer\"]])[0],\n",
    "                \"instructor-vectors\": model_instructor.encode([[instruction_posts,row[\"upvoted_answer\"]]])[0],\n",
    "                }\n",
    "    )"
   ]
  },
  {
   "cell_type": "markdown",
   "id": "f99da942",
   "metadata": {},
   "source": [
    "## Let's compare our results\n"
   ]
  },
  {
   "cell_type": "code",
   "execution_count": 9,
   "id": "8656eebc",
   "metadata": {},
   "outputs": [],
   "source": [
    "def print_results(model_name, results):\n",
    "    print(f\"---{model_name.upper()} RESULTS---\")\n",
    "    count=1\n",
    "    for count, result in enumerate(results):\n",
    "        if count>=3:\n",
    "            break\n",
    "        print(f\"----- RESULT {count+1} -----\")\n",
    "        print(\"Similarity score:\",'%.2f' %result.score)\n",
    "        print(\"Result:\",'%.450s' %result.text,\"...\\n\")\n",
    "    "
   ]
  },
  {
   "cell_type": "code",
   "execution_count": 10,
   "id": "4fa67d2e",
   "metadata": {},
   "outputs": [
    {
     "name": "stdout",
     "output_type": "stream",
     "text": [
      "---MS_MARCO RESULTS---\n",
      "----- RESULT 1 -----\n",
      "Similarity score: 0.57\n",
      "Result: In the outdoors, the way to deal with cold is not to heat the environment, but to insulate yourself.  You say \"snow line\", so it appears you aren't asking about anything particularly cold.\n",
      "\n",
      "Just get a proper sleeping bag rated for the temperature.  Since you are car camping, you can bring some extra supplies like blankets.  Get a sleeping bag rated for the normal or a bit above normal temperature, then add a blanket for the unusually cold nights. ...\n",
      "\n",
      "----- RESULT 2 -----\n",
      "Similarity score: 0.41\n",
      "Result: If you are in a place that has streams, placing the beer in the water every time you take a break will cool them.\n",
      "Place in a cold/cool body of water about 30 minutes before drinking will also help. \n",
      "If you don't have a body of water, wrap the individual cans/bottles in a wet towel in the shade, preferable where it is windy. Evaporation will cool the beers.\n",
      "\n",
      "Last option will be to use some form of insulating container, keeping it will shaded in th ...\n",
      "\n",
      "----- RESULT 3 -----\n",
      "Similarity score: 0.40\n",
      "Result: I'm answering my own question to share some knowledge.\n",
      "\n",
      "First, cold toes/fingers is serious. You start feeling discomfort, then a little pain, then you stop feeling them and forget about them, then you get them amputated. So you should constantly check if you can still feel toes and fingers, and if not, start to warm them up.\n",
      "\n",
      "Second, I find most effective and easy the following method of heating:\n",
      "\n",
      "\n",
      "To warm up toes, swing your leg back-and-forwar ...\n",
      "\n"
     ]
    }
   ],
   "source": [
    "query = \"how to deal with cold weather?\"\n",
    "\n",
    "ms_marco_vectors=model_marco.encode([query])[0]\n",
    "results_msmarco = my_kb.search(vector=ms_marco_vectors, vectorset=\"ms-marco-vectors\")\n",
    "print_results(\"MS_MARCO\", results_msmarco)"
   ]
  },
  {
   "cell_type": "code",
   "execution_count": 11,
   "id": "713f44a7",
   "metadata": {},
   "outputs": [
    {
     "name": "stdout",
     "output_type": "stream",
     "text": [
      "---INSTRUCTOR RESULTS---\n",
      "----- RESULT 1 -----\n",
      "Similarity score: 0.89\n",
      "Result: In the outdoors, the way to deal with cold is not to heat the environment, but to insulate yourself.  You say \"snow line\", so it appears you aren't asking about anything particularly cold.\n",
      "\n",
      "Just get a proper sleeping bag rated for the temperature.  Since you are car camping, you can bring some extra supplies like blankets.  Get a sleeping bag rated for the normal or a bit above normal temperature, then add a blanket for the unusually cold nights. ...\n",
      "\n",
      "----- RESULT 2 -----\n",
      "Similarity score: 0.88\n",
      "Result: Buy an Overbag.  \n",
      "\n",
      "\n",
      "Use the Overbag when it's too warm for your down bag\n",
      "Use the down bag at and around -15C\n",
      "Use the Overbag and Down Bag together when it's colder than -15C\n",
      "\n",
      "\n",
      "AND if you want to get real fancy get a Vapour Barrier Liner and use all three together for expeditions and temps below -30C.  You now have all your bases covered! \n",
      "\n",
      "This is much more cost effective than to buy a summer bag, your -15 bag, and an expedition bag...\n",
      "\n",
      "If you're ...\n",
      "\n",
      "----- RESULT 3 -----\n",
      "Similarity score: 0.88\n",
      "Result: Another option is to keep your water bottle inside your jacket and use your body heat to prevent the water from freezing. Many mountaineering jackets have internal elasticated mesh pockets for this purpose. Alternatively, I find I can just put the water bottle inside my jacket and use the waist belt of my rucksack to prevent the bottle from falling down inside the jacket. The other advantage is easy access to water without having to go to your ru ...\n",
      "\n"
     ]
    }
   ],
   "source": [
    "instructor_vectors=model_instructor.encode([[instruction_query,query]])[0]\n",
    "results_instructor = my_kb.search(vector = instructor_vectors, vectorset=\"instructor-vectors\", min_score=0)\n",
    "print_results(\"INSTRUCTOR\", results_instructor)"
   ]
  },
  {
   "cell_type": "code",
   "execution_count": 12,
   "id": "09ee28af",
   "metadata": {},
   "outputs": [
    {
     "name": "stdout",
     "output_type": "stream",
     "text": [
      "---MS_MARCO RESULTS---\n",
      "----- RESULT 1 -----\n",
      "Similarity score: 0.50\n",
      "Result: With fog, the only thing you're losing is extended visibility. This shouldn't throw off your plan too much, unless you were navigating by watching far away landmarks.\n",
      "\n",
      "If you were on a trail, stay on it. There's no need to wander around. If you can't see anything and traveling is becoming dangerous or you're not sure where you're going, then stop and wait for the fog to lift.\n",
      "\n",
      "If it's getting dark, you might have to setup camp. Hope you have an e ...\n",
      "\n",
      "----- RESULT 2 -----\n",
      "Similarity score: 0.45\n",
      "Result: Leave no Trace\n",
      "\n",
      "The basic guideline is do not leave your feces anywhere that it can be discovered or uncovered in the future.\n",
      "\n",
      "As far as upsetting the ecosystem equilibrium, good luck with that, there are much bigger things than you in the woods are that are indiscriminately defecating on the ground and in watercourses. It's less of a sanitary hazard to the environment than it is to other human beings.   \n",
      "\n",
      "When disposing of your human waste in na ...\n",
      "\n",
      "----- RESULT 3 -----\n",
      "Similarity score: 0.41\n",
      "Result: The VERY FIRST thing you need to do is to not panic.  Sit down for a minute or two and let your mind catch up to the fact you are lost.  Now, take out your map, compass, gps, or whatever and try to find your way back to where you DID know where you were.\n",
      "\n",
      "If you can't figure out where the trail should be and you need to bushwhack, find a bit of a clearing, take bearings to nearby landmarks, and draw on your map (or use sticks if they are straight ...\n",
      "\n"
     ]
    }
   ],
   "source": [
    "query = \"What to do if you get lost?\"\n",
    "\n",
    "ms_marco_vectors=model_marco.encode([query])[0]\n",
    "results_msmarco = my_kb.search(vector=ms_marco_vectors, vectorset=\"ms-marco-vectors\")\n",
    "print_results(\"MS_MARCO\", results_msmarco)\n"
   ]
  },
  {
   "cell_type": "code",
   "execution_count": 13,
   "id": "6b5a28d3",
   "metadata": {},
   "outputs": [
    {
     "name": "stdout",
     "output_type": "stream",
     "text": [
      "---INSTRUCTOR RESULTS---\n",
      "----- RESULT 1 -----\n",
      "Similarity score: 0.90\n",
      "Result: The VERY FIRST thing you need to do is to not panic.  Sit down for a minute or two and let your mind catch up to the fact you are lost.  Now, take out your map, compass, gps, or whatever and try to find your way back to where you DID know where you were.\n",
      "\n",
      "If you can't figure out where the trail should be and you need to bushwhack, find a bit of a clearing, take bearings to nearby landmarks, and draw on your map (or use sticks if they are straight ...\n",
      "\n",
      "----- RESULT 2 -----\n",
      "Similarity score: 0.88\n",
      "Result: With fog, the only thing you're losing is extended visibility. This shouldn't throw off your plan too much, unless you were navigating by watching far away landmarks.\n",
      "\n",
      "If you were on a trail, stay on it. There's no need to wander around. If you can't see anything and traveling is becoming dangerous or you're not sure where you're going, then stop and wait for the fog to lift.\n",
      "\n",
      "If it's getting dark, you might have to setup camp. Hope you have an e ...\n",
      "\n",
      "----- RESULT 3 -----\n",
      "Similarity score: 0.87\n",
      "Result: Here's what I normally take with me on these trips at the moment.  I can\n",
      "divide them into what's needed before, during and after an incident.\n",
      "Avoiding trouble\n",
      "\n",
      "clothing and food (including drink): as with any outdoor\n",
      "activity, it's important to avoid fatigue and hypothermia.  Poor\n",
      "decision-making is the start of most problems, and reduces your\n",
      "ability to correct them.  One of the most useful items is a thin\n",
      "thermal balaclava, which I use to regul ...\n",
      "\n"
     ]
    }
   ],
   "source": [
    "instructor_vectors=model_instructor.encode([[instruction_query,query]])[0]\n",
    "results_instructor = my_kb.search(vector = instructor_vectors, vectorset=\"instructor-vectors\", min_score=0)\n",
    "print_results(\"INSTRUCTOR\", results_instructor)"
   ]
  },
  {
   "cell_type": "code",
   "execution_count": 14,
   "id": "24aa3fe4",
   "metadata": {},
   "outputs": [
    {
     "name": "stdout",
     "output_type": "stream",
     "text": [
      "---MS_MARCO RESULTS---\n",
      "----- RESULT 1 -----\n",
      "Similarity score: 0.51\n",
      "Result: The VERY FIRST thing you need to do is to not panic.  Sit down for a minute or two and let your mind catch up to the fact you are lost.  Now, take out your map, compass, gps, or whatever and try to find your way back to where you DID know where you were.\n",
      "\n",
      "If you can't figure out where the trail should be and you need to bushwhack, find a bit of a clearing, take bearings to nearby landmarks, and draw on your map (or use sticks if they are straight ...\n",
      "\n",
      "----- RESULT 2 -----\n",
      "Similarity score: 0.50\n",
      "Result: Bears don't generally like people, and the ones who do are usually going to be more interested in dumpsters and campgrounds than a random boat on the river. The likelihood of ever getting into a situation where you have to fend off a bear attack on the water is absurdly small. Bears are usually either crossing water to get somewhere else and want nothing to do with you, or else they're fishing... and want nothing to do with you. The majority of c ...\n",
      "\n",
      "----- RESULT 3 -----\n",
      "Similarity score: 0.47\n",
      "Result: Wild dogs can indeed be dangerous, and packs can be extremely dangerous.  You do not want to take on a pack of dogs if you can at all avoid it, and running is often a particularly bad idea.\n",
      "\n",
      "I suggest starting with the basics: try to keep the dog calm and don't try to intimidate it.  This means:\n",
      "\n",
      "\n",
      "Don't make direct eye contact, and remember that sunglasses look like large unblinking eyes.\n",
      "Don't smile (it bares your teeth, which can be similarly t ...\n",
      "\n"
     ]
    }
   ],
   "source": [
    "query = \"What to do if you run into animals on the trail?\"\n",
    "\n",
    "ms_marco_vectors=model_marco.encode([query])[0]\n",
    "results_msmarco = my_kb.search(vector=ms_marco_vectors, vectorset=\"ms-marco-vectors\")\n",
    "print_results(\"MS_MARCO\", results_msmarco)\n"
   ]
  },
  {
   "cell_type": "code",
   "execution_count": 15,
   "id": "4fae7601",
   "metadata": {},
   "outputs": [
    {
     "name": "stdout",
     "output_type": "stream",
     "text": [
      "---INSTRUCTOR RESULTS---\n",
      "----- RESULT 1 -----\n",
      "Similarity score: 0.90\n",
      "Result: Hyenas aren't closely related to wild dogs (1), but a predator is a predator is a predator, and running from a predator says \"I am prey.\"  \n",
      "\n",
      "How worried should you be if you come upon hyenas?  The first thing to note is: are they striped or spotted?  If they are striped, they may be more interested in your oranges (2) than you.  If they are spotted, be worried.  \n",
      "\n",
      "\"The striped hyena is primarily a scavenger, though it will occasionally attack and ...\n",
      "\n",
      "----- RESULT 2 -----\n",
      "Similarity score: 0.90\n",
      "Result: Wild dogs can indeed be dangerous, and packs can be extremely dangerous.  You do not want to take on a pack of dogs if you can at all avoid it, and running is often a particularly bad idea.\n",
      "\n",
      "I suggest starting with the basics: try to keep the dog calm and don't try to intimidate it.  This means:\n",
      "\n",
      "\n",
      "Don't make direct eye contact, and remember that sunglasses look like large unblinking eyes.\n",
      "Don't smile (it bares your teeth, which can be similarly t ...\n",
      "\n",
      "----- RESULT 3 -----\n",
      "Similarity score: 0.88\n",
      "Result: Couple suggestions for meeting people on the trail with dogs,\n",
      "\n",
      "\n",
      "Keep the dogs leashed.\n",
      "When passing people put the dogs on the opposite side of yourself so that you are between the dogs and the people.\n",
      "Pull off to the side and have the dogs sit, as this demonstrates that you have control over the dogs and they will listen to you.\n",
      "Talk with the people you meet, ask the normal social questions like \n",
      "\n",
      "\n",
      "How is your day?\n",
      "How long have you been out for ...\n",
      "\n"
     ]
    }
   ],
   "source": [
    "instructor_vectors=model_instructor.encode([[instruction_query,query]])[0]\n",
    "results_instructor = my_kb.search(vector = instructor_vectors, vectorset=\"instructor-vectors\", min_score=0)\n",
    "print_results(\"INSTRUCTOR\", results_instructor)"
   ]
  }
 ],
 "metadata": {
  "kernelspec": {
   "display_name": "Python 3 (ipykernel)",
   "language": "python",
   "name": "python3"
  },
  "language_info": {
   "codemirror_mode": {
    "name": "ipython",
    "version": 3
   },
   "file_extension": ".py",
   "mimetype": "text/x-python",
   "name": "python",
   "nbconvert_exporter": "python",
   "pygments_lexer": "ipython3",
   "version": "3.9.15"
  }
 },
 "nbformat": 4,
 "nbformat_minor": 5
}
