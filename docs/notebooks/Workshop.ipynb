{
 "cells": [
  {
   "cell_type": "markdown",
   "id": "9f499161",
   "metadata": {},
   "source": [
    "## Install dependencies"
   ]
  },
  {
   "cell_type": "code",
   "execution_count": null,
   "id": "caeaf37c",
   "metadata": {},
   "outputs": [],
   "source": [
    "! pip install -U  nucliadb-sdk\n",
    "! pip install -U sentence-transformers\n",
    "! pip install datasets\n",
    "! pip install InstructorEmbedding lxml bs4 gradio"
   ]
  },
  {
   "cell_type": "markdown",
   "id": "19f70326",
   "metadata": {},
   "source": [
    "## Setup NucliaDB\n",
    "\n",
    "- Run **NucliaDB** image:\n",
    "```bash\n",
    "docker run -it \\\n",
    "       -e LOG=INFO \\\n",
    "       -p 8080:8080 \\\n",
    "       -p 8060:8060 \\\n",
    "       -p 8040:8040 \\\n",
    "       -v nucliadb-standalone:/data \\\n",
    "       nuclia/nucliadb:latest\n",
    "```\n",
    "- Or install with pip and run:\n",
    "\n",
    "```bash\n",
    "pip install nucliadb\n",
    "nucliadb\n",
    "```"
   ]
  },
  {
   "cell_type": "markdown",
   "id": "3cf2a673",
   "metadata": {},
   "source": [
    "## Check everything's up and running"
   ]
  },
  {
   "cell_type": "code",
   "execution_count": 3,
   "id": "97fb3982",
   "metadata": {},
   "outputs": [],
   "source": [
    "import requests\n",
    "response = requests.get(f\"http://0.0.0.0:8080\")\n",
    "\n",
    "assert response.status_code == 200, \"Ups, it seems something is not properly installed\""
   ]
  },
  {
   "cell_type": "markdown",
   "id": "03b3e412",
   "metadata": {},
   "source": [
    "## Load our data\n",
    "\n",
    "Load and explore the coffee dataset"
   ]
  },
  {
   "cell_type": "code",
   "execution_count": null,
   "id": "4514806d",
   "metadata": {},
   "outputs": [],
   "source": [
    "from datasets import load_dataset\n",
    "\n",
    "dataset = load_dataset(\"HuggingFaceGECLM/StackExchange_Mar2023\", split=\"coffee\")"
   ]
  },
  {
   "cell_type": "code",
   "execution_count": 181,
   "id": "af0c77b4",
   "metadata": {},
   "outputs": [
    {
     "data": {
      "text/plain": [
       "Dataset({\n",
       "    features: ['question_id', 'text', 'metadata', 'date', 'original_text'],\n",
       "    num_rows: 1277\n",
       "})"
      ]
     },
     "execution_count": 181,
     "metadata": {},
     "output_type": "execute_result"
    }
   ],
   "source": [
    "dataset"
   ]
  },
  {
   "cell_type": "code",
   "execution_count": 183,
   "id": "d2bf5f03",
   "metadata": {},
   "outputs": [
    {
     "data": {
      "text/plain": [
       "'3483: <p><strong>In a cool, dry place, away from elements and preferably sealed / vacuum sealed</strong></p>\\n\\n<p><strong>No paper bags or canvas, something clean, and preferably with one of those moisture wicking buttons</strong></p>\\n\\n<p>My favorite thing is a \"<a href=\"https://www.mysticmonkcoffee.com/collections/equipment/products/monk-coffee-vault-storage-black\" rel=\"nofollow noreferrer\">Coffee Vault</a>\" from Mystic Monk.  It has two seals and and has a \\'lock\\' to the second seal.  I use to work in a place where you could smell things easily, my coworkers would love it every morning hearing the seal unlock and the vacuum seal taken off as they would smell the coffee as if it was a fresh roasted bag.  Every morning without fail.  I think they are made by AirScape or <a href=\"https://planetarydesign.com/shop/airscape-kitchen-canisters/\" rel=\"nofollow noreferrer\">Planetary Design</a> or something like that.</p>\\n\\n<p>For christmas this year my wife got me a <a href=\"http://www.zurichluxuryhome.com/store/p2/Coffee_Vault_.html\" rel=\"nofollow noreferrer\">Zurich Coffee Vault</a> , which is supposed to be the highest rated and best coffee vault.  Its really good, the coffee scoop I think is a big odd, and I like it, but to me its still nothing compared to the AirScape / Planetary Design Coffee Vault.</p>\\n\\n<p>I saw no paper bags or canvases, as those are easily affected by the elements and even by the coffee itself, and often what you are given coffee in.  I have found that if you keep the coffee in that, the coffee oils can come off in the bag possibly affecting the next  batch of coffee in that.  Though this is true for anything, even with the Coffee Vaults or plastic storage, if not cleaned properly between uses you will get a different tasting coffee.  The paper and canvas I have also had experiences where the flavor of the canvas or paper starts coming through in the coffee, and I am sure this is also true for some other organic materials.</p>\\n'"
      ]
     },
     "execution_count": 183,
     "metadata": {},
     "output_type": "execute_result"
    }
   ],
   "source": [
    "dataset[0]['original_text'][1]"
   ]
  },
  {
   "cell_type": "markdown",
   "id": "682d0817",
   "metadata": {},
   "source": [
    "## Clean our data\n",
    "\n",
    "Filter and clean our data"
   ]
  },
  {
   "cell_type": "code",
   "execution_count": 187,
   "id": "0e595a02",
   "metadata": {},
   "outputs": [
    {
     "data": {
      "text/plain": [
       "'3483: In a cool, dry place, away from elements and preferably sealed / vacuum sealed\\nNo paper bags or canvas, something clean, and preferably with one of those moisture wicking buttons\\nMy favorite thing is a \"Coffee Vault\" from Mystic Monk.  It has two seals and and has a \\'lock\\' to the second seal.  I use to work in a place where you could smell things easily, my coworkers would love it every morning hearing the seal unlock and the vacuum seal taken off as they would smell the coffee as if it was a fresh roasted bag.  Every morning without fail.  I think they are made by AirScape or Planetary Design or something like that.\\nFor christmas this year my wife got me a Zurich Coffee Vault , which is supposed to be the highest rated and best coffee vault.  Its really good, the coffee scoop I think is a big odd, and I like it, but to me its still nothing compared to the AirScape / Planetary Design Coffee Vault.\\nI saw no paper bags or canvases, as those are easily affected by the elements and even by the coffee itself, and often what you are given coffee in.  I have found that if you keep the coffee in that, the coffee oils can come off in the bag possibly affecting the next  batch of coffee in that.  Though this is true for anything, even with the Coffee Vaults or plastic storage, if not cleaned properly between uses you will get a different tasting coffee.  The paper and canvas I have also had experiences where the flavor of the canvas or paper starts coming through in the coffee, and I am sure this is also true for some other organic materials.\\n'"
      ]
     },
     "execution_count": 187,
     "metadata": {},
     "output_type": "execute_result"
    }
   ],
   "source": [
    "from bs4 import BeautifulSoup\n",
    "cleantext = BeautifulSoup(dataset[0]['original_text'][1], \"lxml\").text\n",
    "cleantext"
   ]
  },
  {
   "cell_type": "code",
   "execution_count": 188,
   "id": "e2168255",
   "metadata": {},
   "outputs": [
    {
     "data": {
      "text/plain": [
       "'In a cool, dry place, away from elements and preferably sealed / vacuum sealed\\nNo paper bags or canvas, something clean, and preferably with one of those moisture wicking buttons\\nMy favorite thing is a \"Coffee Vault\" from Mystic Monk.  It has two seals and and has a \\'lock\\' to the second seal.  I use to work in a place where you could smell things easily, my coworkers would love it every morning hearing the seal unlock and the vacuum seal taken off as they would smell the coffee as if it was a fresh roasted bag.  Every morning without fail.  I think they are made by AirScape or Planetary Design or something like that.\\nFor christmas this year my wife got me a Zurich Coffee Vault , which is supposed to be the highest rated and best coffee vault.  Its really good, the coffee scoop I think is a big odd, and I like it, but to me its still nothing compared to the AirScape / Planetary Design Coffee Vault.\\nI saw no paper bags or canvases, as those are easily affected by the elements and even by the coffee itself, and often what you are given coffee in.  I have found that if you keep the coffee in that, the coffee oils can come off in the bag possibly affecting the next  batch of coffee in that.  Though this is true for anything, even with the Coffee Vaults or plastic storage, if not cleaned properly between uses you will get a different tasting coffee.  The paper and canvas I have also had experiences where the flavor of the canvas or paper starts coming through in the coffee, and I am sure this is also true for some other organic materials.'"
      ]
     },
     "execution_count": 188,
     "metadata": {},
     "output_type": "execute_result"
    }
   ],
   "source": [
    "my_data = [\"\".join(BeautifulSoup(i['original_text'][1], \"lxml\").text.split(\":\")[1:]).strip() for i in dataset]\n",
    "my_data[0]"
   ]
  },
  {
   "cell_type": "markdown",
   "id": "6d5df811",
   "metadata": {},
   "source": [
    "## Load the models to generate embeddings\n",
    "\n",
    "In this case we are using Instructor\n",
    "\n",
    "Instructor is an LLM to which we can indicate with instructions the kind of embeddings we want to generate"
   ]
  },
  {
   "cell_type": "code",
   "execution_count": 189,
   "id": "b183206f",
   "metadata": {},
   "outputs": [
    {
     "name": "stdout",
     "output_type": "stream",
     "text": [
      "load INSTRUCTOR_Transformer\n",
      "max_seq_length  512\n"
     ]
    }
   ],
   "source": [
    "from InstructorEmbedding import INSTRUCTOR\n",
    "model_instructor = INSTRUCTOR('hkunlp/instructor-base')\n",
    "instruction_query = \"Represent the question for retrieving relevant coffee related posts:\"\n",
    "instruction_posts= \"Represent the coffee related post for retrieval:\""
   ]
  },
  {
   "cell_type": "markdown",
   "id": "18fee1cb",
   "metadata": {},
   "source": [
    "## Upload our data to NucliaDB\n"
   ]
  },
  {
   "cell_type": "markdown",
   "id": "a6291ae5",
   "metadata": {},
   "source": [
    "\n",
    "First we create a KB to store our data"
   ]
  },
  {
   "cell_type": "code",
   "execution_count": 201,
   "id": "2e70864b",
   "metadata": {},
   "outputs": [],
   "source": [
    "from nucliadb_sdk import *\n",
    "sdk = NucliaSDK(url=\"http://0.0.0.0:8080/api\", region=Region.ON_PREM)\n",
    "kb = sdk.create_knowledge_box(slug=\"my_coffee_kb\")"
   ]
  },
  {
   "cell_type": "markdown",
   "id": "1a62ecdb",
   "metadata": {},
   "source": [
    "A couple of helper functions to upload our data to the kb"
   ]
  },
  {
   "cell_type": "code",
   "execution_count": 202,
   "id": "951b4222",
   "metadata": {},
   "outputs": [],
   "source": [
    "def User_vector(vector_name,vectors):\n",
    "    return {\"field\": {\"field\": \"text\",\"field_type\": \"text\",},\n",
    "            \"vectors\": {vector_name: {\"vectors\": {\"vector\": vectors.tolist()}}}}"
   ]
  },
  {
   "cell_type": "code",
   "execution_count": 203,
   "id": "e423e69d",
   "metadata": {},
   "outputs": [],
   "source": [
    "def batch_upload(data,vector_name,kb,sdk):\n",
    "    vectors = model_instructor.encode([[instruction_posts, row] for row in data])\n",
    "    for i,row in enumerate(data):\n",
    "        sdk.create_resource(\n",
    "            kbid=kb.uuid,\n",
    "            texts={\"text\": {\"body\": row}},\n",
    "            uservectors=[User_vector(vector_name,vectors[i])],\n",
    "        )"
   ]
  },
  {
   "cell_type": "markdown",
   "id": "55b96deb",
   "metadata": {},
   "source": [
    "## Uploading!\n",
    "\n",
    "Here you can change the batch size"
   ]
  },
  {
   "cell_type": "code",
   "execution_count": 204,
   "id": "907c3684",
   "metadata": {},
   "outputs": [
    {
     "name": "stdout",
     "output_type": "stream",
     "text": [
      "Uploading batch 1\n",
      "Uploading batch 2\n",
      "Uploading batch 3\n",
      "Uploading batch 4\n",
      "Uploading batch 5\n",
      "Uploading batch 6\n",
      "Uploading batch 7\n",
      "Uploading batch 8\n",
      "Uploading batch 9\n",
      "Uploading batch 10\n",
      "Uploading batch 11\n",
      "Uploading batch 12\n",
      "Uploading batch 13\n"
     ]
    }
   ],
   "source": [
    "batch_size=100\n",
    "data_size=len(my_data)\n",
    "vector_name=\"instructor\"\n",
    "for i in range(0,data_size,batch_size):\n",
    "    print(f\"Uploading batch {(i//batch_size)+1}\")\n",
    "    batch_upload(my_data[i:min(i+batch_size,data_size)],vector_name,kb,sdk)"
   ]
  },
  {
   "cell_type": "markdown",
   "id": "f99da942",
   "metadata": {},
   "source": [
    "## And now what?\n",
    "\n",
    "Now let's do some searches to see what we get!\n"
   ]
  },
  {
   "cell_type": "code",
   "execution_count": 219,
   "id": "8656eebc",
   "metadata": {},
   "outputs": [],
   "source": [
    "def search(query,kb):\n",
    "    results = sdk.search(\n",
    "        kbid=kb.uuid,\n",
    "        vector=model_instructor.encode([[instruction_query,query]])[0].tolist(),\n",
    "        vectorset=\"instructor\",\n",
    "        min_score=0.4,\n",
    "        features=[SearchOptions.VECTOR],\n",
    "        show=[ResourceProperties.BASIC, ResourceProperties.VALUES]\n",
    "    )\n",
    "    return [(i.score,results.resources[i.rid].data.texts[\"text\"].value.body) for i in results.sentences.results]\n",
    "   "
   ]
  },
  {
   "cell_type": "code",
   "execution_count": 220,
   "id": "d3d72a86",
   "metadata": {},
   "outputs": [],
   "source": [
    "def print_results(results):\n",
    "    for i, result in enumerate(results):\n",
    "        print(f\"----- RESULT {i+1} -----\")\n",
    "        print(\"Similarity score:\",'%.2f' %result[0])\n",
    "        print(\"Result:\",'%.800s' %result[1],\"...\\n\")\n",
    "    "
   ]
  },
  {
   "cell_type": "code",
   "execution_count": 221,
   "id": "f43d1f34",
   "metadata": {},
   "outputs": [
    {
     "name": "stdout",
     "output_type": "stream",
     "text": [
      "----- RESULT 1 -----\n",
      "Similarity score: 0.92\n",
      "Result: The problem with ordering a \"Macchiato\" is that it's only half of the name of a traditional coffee drink.\n",
      "\"Macchiato\" means \"stained\" or \"flecked\" and not more.\n",
      "In Italy, you have either \n",
      "\n",
      "Latte macchiato *Milk \"stained\" with coffee (more precisely caffè or espresso) or\n",
      "Espresso macchiato Espresso (or caffè) \"stained\" with a spoonful of milk foam.\n",
      "\n",
      "If you order a \"Macciato\" without qualifier, you will either get what the chain defines as such (for Starbucks, a lot of milk and foam with one or multiple shots of espresso) or what your barista thinks of first - and that would often be a (latte) macchiato, i.e. a glass of milk and foam with an espresso layer inbetween. \n",
      "So my recommendation is\n",
      "If you want a serving of espresso with a bit of milk, order an espresso macchiato. I just double-chec ...\n",
      "\n",
      "----- RESULT 2 -----\n",
      "Similarity score: 0.88\n",
      "Result: From what I have found the only rule to make latte macchiato is to use at least 200ml of milk for a 30ml espresso shot. \n",
      "Clearly this is mostly defined by the volume of the glass the coffee is served in and that will definitely vary from shop to shop. \n",
      "I would expect the coffee shops to use standart espresso shots but no one can be sure about this either. ...\n",
      "\n",
      "----- RESULT 3 -----\n",
      "Similarity score: 0.87\n",
      "Result: Your intuition is correct, modifiers like sugar or creme will only obscure a lot of nuance so connoisseurs, professionals & judges will try new coffees or espresso as brewed without adding anything.\n",
      "Depending on the quality of coffee and a person's preferences they may sometimes add something after the initial taste. And some connoisseurs may order something like an espresso macchiato (espresso with a tiny amount of textured milk) or routinely add e.g. one sugar when drinking a coffee that they are familiar with or just for variety. But in general the better the quality of coffee and the more serious the connoisseur, the less likely they are to be adding anything to their coffee.\n",
      "Certainly if you are trying to discern what a new coffee tastes like, you shouldn't be adding anything initiall ...\n",
      "\n",
      "----- RESULT 4 -----\n",
      "Similarity score: 0.87\n",
      "Result: By American, you are probably meaning Caffè Americano, which literally means American coffee. This is actually more of an Italian coffee since this is Italian itself. It is brewed by\n",
      "\n",
      "prepared by brewing espresso over hot water\n",
      "\n",
      "Quote also from above link. So espresso is also in American coffee. Caffeine will vary as the amount of shots used will vary per person. \n",
      "Espresso is coffee that is brewed by and is\n",
      "\n",
      "is coffee brewed by forcing a small amount of nearly boiling water under pressure through finely ground coffee beans.\n",
      "\n",
      "It has one of the most highest amount of caffeine of any other coffee drink per unit volume, so you would expect American and any type of coffee involving espresso will lots of caffeine. Well that depends on how much coffee you are drinking as espresso is served in sma ...\n",
      "\n",
      "----- RESULT 5 -----\n",
      "Similarity score: 0.87\n",
      "Result: In Italy this could be asked for by requesting a Caffè doppio (admittedly a bit borderline with a lungo) ...\n",
      "\n",
      "----- RESULT 6 -----\n",
      "Similarity score: 0.86\n",
      "Result: It's just a matter of tradition, style and skill. Traditionally the thick, hard foam with bigger bubbles is used in Italy for Cappuccini. Same goes for espresso macchiato. Sometimes the milk foam is spooned on top of the espresso. In other countries they often imitated italian style coffee, which is why e.g. in Germany the foam is usually very thick as well. In Australia they developed italian coffee culture further and usually froth more silky (and make flat whites with it).\n",
      "When it comes to skill, it is much harder to produce silky foam than the \"traditional\" foam. You have to start with cold milk, then introduce air at first, but also not too much and lastly spin the milk/foam mixture to break up big bubbles and to work the froth into the milk. In order to do all that you have to get th ...\n",
      "\n",
      "----- RESULT 7 -----\n",
      "Similarity score: 0.86\n",
      "Result: An Americano, which is known as a Caffe Americano or a Cafe Americano is a type of coffee created by adding hot water to espresso. It translates as American coffee because it was the way Italian baristas would approximate the taste of drip coffee for American soldiers stationed in Italy during the first and second World War.\n",
      "Steps while making this Americano\n",
      "\n",
      "Grind enough espresso beans for 1 1/2 tbsp.\n",
      "Make sure your espresso machine has enough water to create steam for the coffee.\n",
      "Begin heating a pot of water on a stove or in an electric kettle, if your espresso machine does not have an attachment that lets you pour hot water.\n",
      "Place the espresso grounds in the port filter and evenly pack the grounds down with an attachment on the espresso machine or the bottom of a spoon.\n",
      "Secure the Porte ...\n",
      "\n",
      "----- RESULT 8 -----\n",
      "Similarity score: 0.86\n",
      "Result: This sounds Cortado or Noisette to me. Still, additional water makes it a bit interesting. I assume you may simply order your coffee based on lungo instead of doppio.\n",
      "Again, lungo based Cappucino Scuro may be another alternative. However, it also has foam on top of steamed milk.\n",
      "This answer includes so much terminology. So, let me make a glossary.\n",
      "\n",
      "Espresso 30 ml shot of beverage made with 8 grams of beans out of espresso machine. Our main unit.\n",
      "Doppio 60 ml of beverage made with 16 grams of beans. Double shot espresso.\n",
      "Lungo ~60 ml of beverage made with 8 grams of beans. Long shot single espresso.\n",
      "Cortado A bit of steamed milk (~30 ml) is added on top of doppio.\n",
      "Noisette A bit of hot milk (~30 ml) is added on top of doppio.\n",
      "Cappucino A bit of steamed milk (~60 ml) then some foamed milk (~ ...\n",
      "\n",
      "----- RESULT 9 -----\n",
      "Similarity score: 0.86\n",
      "Result: Thanks Steph I see what you mean. The answer is really that there is no clear answer because it is a question of nomenclature and there is no 'technical' definition of 'latte' in this context that I know of. What you are really asking is what is the best option or something like that? It seems to be a feature of language that people think of terms and words in relation to what they consider ideal or 'normal' cases, other factors cause terminology to vary widely and there is no Academie francais or ISO body to pronounce on this one. Even if there was usages would still vary as Academies and language mavens everywhere eventually learn. Ingredients or components often become names for foodstuffs or well used items, 'latte' being the best example, \"chili\" another, \"canvas\" on sailing ships yet ...\n",
      "\n",
      "----- RESULT 10 -----\n",
      "Similarity score: 0.86\n",
      "Result: An espresso is a shot of coffee produced by forcing hot water at high pressure through coffee grounds. Often, the espresso is the base shot of coffee from which other coffee drinks are prepared, although it is also quite common to enjoy it on its own.\n",
      "An americano is a coffee drink made by pouring one espresso and then adding hot water on top of it. This hot water weakens the coffee a little and mitigates some bitter notes. It is also consequently a larger drink and retains its heat for longer.\n",
      "As Ivan mentions in the comments, you may also be interested in the long black. It's a little like a reverse americano, where the espresso shot is pulled over hot water. This retains more of the crema than an americano does. ...\n",
      "\n",
      "----- RESULT 11 -----\n",
      "Similarity score: 0.86\n",
      "Result: Disclaimer I don't own the machine, but I've checked its pictures on the Internet at a glance.\n",
      "\n",
      "As far as I understand, the definition you've made is called Coffè Crema and discussed under this question along with Coffè Lungo. In some bean-to-cup machines you may set the details how each button prepares each kind of coffee. If this is not the case, I can see that the machine has capability of preparing two espresso at once. So, you may try to prepare a Doppio (double espresso) to make a stronger beverage. Here is a quick wiki link.\n",
      "See the link in the previous item.\n",
      "There should be a button for that on such machines. At least, I hope there is one. ...\n",
      "\n",
      "----- RESULT 12 -----\n",
      "Similarity score: 0.86\n",
      "Result: TL;DR; Remove the outer panarello leaving just the inner steam tip. Turn the jug at a 45 degree angle and try to get the milk to spin round in a vortex.\n",
      "Detail The panarello brings in extra air to make the frothing and steaming of the milk a much more consistent, reliable process. Unfortunately, from a latte perspective, the bubbles end up being too big and are more suited to frothy cappuccino.\n",
      "I have had this machine for two years and had given up on any chance of proper latte art. Then, in searching for supporting evidence before answering you, I found this Magnifica review where the reviewer says\n",
      "\n",
      "The popular option with domestic Espresso machines are panarello\n",
      "wands, a sheath which covers the steam pipe and introduces steam to\n",
      "the milk via holes on the side. ... They produce only large ...\n",
      "\n",
      "----- RESULT 13 -----\n",
      "Similarity score: 0.86\n",
      "Result: A Moccamaster is like any other electric drip brewer. It takes water and ground coffee and it brews a pot of coffee.\n",
      "\n",
      "Is the difference noticeable between a Moccamaster and a generic cheap coffee maker and does it truly last longer?\n",
      "\n",
      "From what I've read online, the Moccamaster is a decent brewer. As far as electric brewers go, I think that mostly refers to consistency. All the machine does is adding hot water to the grounds, so consistency means\n",
      "\n",
      "The water is added to the grounds at the same temperature regardless of the temperature of the cold water you're adding in the reservoir.\n",
      "\n",
      "The water is dispersed somewhat equally over the coffee in the filter.\n",
      "\n",
      "\n",
      "Based on the good reviews (and no personal experience) I'm sure that it will do the job as good as any other generic brewer. As for build ...\n",
      "\n",
      "----- RESULT 14 -----\n",
      "Similarity score: 0.86\n",
      "Result: There is in fact a difference which can’t always be seen\n",
      "A Viennese melange is espresso mixed with hot milk, topped of with milk foam. A Cappuccino is merely espresso topped with (a lot) of milk foam. ...\n",
      "\n",
      "----- RESULT 15 -----\n",
      "Similarity score: 0.86\n",
      "Result: An Irish coffee is traditionally a strong sweetened (with muscovada or demerara sugar or syrup) coffee with a doubleshot of Whisky (I guess around 40-50ml for a glass of coffee of 150ml) and a layer of aerated cream on top of it.\n",
      "\n",
      "The coffee\n",
      "\n",
      "I don't know what was used traditionally, I assume some kind of turkish coffee (or \"Cowboy coffee\"), where the grounds steep in water just of the boil for a few minutes or percolater coffee. Today I would probably use french press coffee or AeroPress with a metal disk instead of paper filter. You should keep in mind, that the coffee-sugar-whisky mix has to be higher in density than the slightly whipped cream. A pour over is likely too delicate (in taste and density). You also don't want coffee that's too strong (like espresso) because it would cover u ...\n",
      "\n",
      "----- RESULT 16 -----\n",
      "Similarity score: 0.86\n",
      "Result: As far as actual speed, that based mainly on the barista working shift, the load, and amount of available equipment.  Starbucks does not have any patented magic equipment that  lets them pull shots faster than any other coffee house (that I am aware of).  \n",
      "If you enjoy their beverages, then there probably isn't any reason you shouldn't continue to drink it.  I would guess you are in the minority of people buy what amounts to black coffee from Starbucks.  Starbucks is a fairly divisive brand among most consumers.  Most of the people I have talked to that like their beverages are buying mixed drinks from them and not straight espresso, drip coffee or americanos.  \n",
      "Starbucks does sell organic, fair trade and the like specialty coffees as whole bean or ground.  However, the vast majority of th ...\n",
      "\n",
      "----- RESULT 17 -----\n",
      "Similarity score: 0.85\n",
      "Result: It is slightly dependent on your personal definition of espresso. Also the choice depends on how easy you want its operation to be.\n",
      "The moka pot is certainly the cheapest espresso-type device. However, it doesn't fall within the standards of a true Italian espresso, as pointed out in this answer. In particular, you won't have any crema.\n",
      "Hand pumps are inexpensive, compact and light, and have the decent pressure of 8 bars. Although they are marketed as an espresso device for camping, they can be use wherever you have hot water.\n",
      "A step up for home is an aeropress. The way it operates is steep + push-filter (as in a French press), and the result ranges from filter-brew-like to espresso-like.\n",
      "Next in price are probably the capsule espresso machines (such as Nespresso and its clones), which man ...\n",
      "\n",
      "----- RESULT 18 -----\n",
      "Similarity score: 0.85\n",
      "Result: I know this doesn't answer the question, but since it's already been answered...\n",
      "My boss recently got back from a two-week trip to Italy, where he was unable to order a drink by the name of \"Americano.\" And if they don't know what you're talking about, which was his case, they hand you an espresso.\n",
      "So it seems that an Americano, regardless of how the name originated, is now an American drink. Not to say that you couldn't order this anywhere in Italy, but just that it was not the norm in the cafes my boss went to. ...\n",
      "\n",
      "----- RESULT 19 -----\n",
      "Similarity score: 0.85\n",
      "Result: Rather than 'care but compromise' I would call them inventive, eclectic and adventurous coffee enthusiasts as contrasted with the purists or puritans who believe there is a 'correct and proper' way to do things. You will find this great divide in every serious hobby field, including coffee and hi-fi audio which I am familiar with, but also in beer & wine, automobiles, computers and fashion. Adventurous users are both confident and willing to think out of the box. As you noted in comments, it's also about finding creative personalised solutions to practical challenges\n",
      "\n",
      "I like coffee drinks in the cortado / flat white family, but I don't have room on my kitchen counter for an espresso machine and a high-end grinder. Nor am I about to wait fifteen minutes for the espresso machine to come up t ...\n",
      "\n",
      "----- RESULT 20 -----\n",
      "Similarity score: 0.85\n",
      "Result: Reviews of the Melitta Molino indicate that the unit is not actually capable of achieving the very fine grind needed for espresso. Sorry to be the bearer of bad news.\n",
      "Espresso grinders require very tight tolerances in manufacturing to enable the close proximity of burrs required for very fine grinding. This is why the vast majority of grinders made by reputable companies and advertised as \"for espresso\" tend to start in the several hundreds of dollars range. There's unfortunately no way to shortcut this requirement; loose tolerances would result in too many units being returned when burrs lock up from touching or people complaining that the grind isn't consistent enough. You might sometimes get decent results from cheap grinders, but cheaper grinders will lack consistency and may not be ab ...\n",
      "\n"
     ]
    }
   ],
   "source": [
    "query =\"What is a macchiato?\"\n",
    "print_results(search(query,kb))"
   ]
  },
  {
   "cell_type": "markdown",
   "id": "aef9959f",
   "metadata": {},
   "source": [
    "## What about the generative??\n",
    "\n",
    "We are going to use Nuclia's endpoint for generativeAI, but feel free to integrate any other!\n"
   ]
  },
  {
   "cell_type": "code",
   "execution_count": 206,
   "id": "c0fde79c",
   "metadata": {},
   "outputs": [],
   "source": [
    "import requests\n",
    "import json\n",
    "def get_answer(question,context):\n",
    "    # API endpoint URL\n",
    "    url = \"https://europe-1.nuclia.cloud/api/v1/predict/chat\"\n",
    "    nua_key=\"\"\n",
    "    user_id=\"\"\n",
    "    # Request parameters\n",
    "    params = {\n",
    "        \"model\": \"chatgpt\"\n",
    "    }\n",
    "\n",
    "    query = f'Answer the following question based on the provided context. IMPORTANT, if you can not answer the question with the context, do not generate and answer, say \"Not enough data to answer this\". Question: {question}'\n",
    "\n",
    "    # Request body\n",
    "    data = {\n",
    "        \"question\": query,\n",
    "        \"retrieval\": False,\n",
    "        \"user_id\": user_id,\n",
    "        \"system\": \"You are a helpful assistant\",\n",
    "        \"context\": [{\"author\": \"USER\",\"text\": context}]\n",
    "    }\n",
    "    headers={    \"x-stf-nuakey\": f\"Bearer {nua_key}\"\n",
    "    }\n",
    "    json_data = json.dumps(data)\n",
    "\n",
    "    response = requests.post(url, params=params, data=json_data, headers=headers)\n",
    "    return response\n"
   ]
  },
  {
   "cell_type": "code",
   "execution_count": 214,
   "id": "b36b1ff8",
   "metadata": {},
   "outputs": [
    {
     "data": {
      "text/plain": [
       "'Macchiato is a traditional coffee drink that means \"stained\" or \"flecked\" in Italian. In Italy, there are two types of macchiato: Latte macchiato and Espresso macchiato. Latte macchiato is milk \"stained\" with coffee, while Espresso macchiato is espresso \"stained\" with a spoonful of milk foam.'"
      ]
     },
     "execution_count": 214,
     "metadata": {},
     "output_type": "execute_result"
    }
   ],
   "source": [
    "context=\"\"\"The problem with ordering a \"Macchiato\" is that it's only half of the name of a traditional coffee drink.\n",
    "\"Macchiato\" means \"stained\" or \"flecked\" and not more.\n",
    "In Italy, you have either \n",
    "\n",
    "Latte macchiato *Milk \"stained\" with coffee (more precisely caffè or espresso) or\n",
    "Espresso macchiato Espresso (or caffè) \"stained\" with a spoonful of milk foam.\n",
    "\n",
    "If you order a \"Macciato\" without qualifier, you will either get what the chain defines as such (for Starbucks, a lot of milk and foam with one or multiple shots of espresso) or what your barista thinks of first - and that would often be a (latte) macchiato, i.e. a glass of milk and foam with an espresso layer inbetween. \n",
    "So my recommendation is If you want a serving of espresso with a bit of milk, order an espresso macchiato. I just double-chec ...\n",
    "From what I have found the only rule to make latte macchiato is to use at least 200ml of milk for a 30ml espresso shot. \n",
    "Clearly this is mostly defined by the volume of the glass the coffee is served in and that will definitely vary from shop to shop. \n",
    "I would expect the coffee shops to use standart espresso shots but no one can be sure about this either\"\"\"\n",
    "\n",
    "response=get_answer(\"What is a Macchiato\",context)\n",
    "response.content.decode()"
   ]
  },
  {
   "cell_type": "markdown",
   "id": "adef812f",
   "metadata": {},
   "source": [
    "## Now let's make this pretty!!\n",
    "\n",
    "Let's integrate everything and make it pretty with gradio :)"
   ]
  },
  {
   "cell_type": "code",
   "execution_count": 142,
   "id": "43dff69b",
   "metadata": {},
   "outputs": [],
   "source": [
    "from nucliadb_models.search import ResourceProperties, SearchOptions\n",
    "\n",
    "def get_context(question):\n",
    "    results = sdk.search(\n",
    "        kbid=kb.uuid,\n",
    "        vector=model_instructor.encode([[instruction_query,question]])[0].tolist(),\n",
    "        vectorset=\"instructor\",\n",
    "        min_score=0.4,\n",
    "        features=[SearchOptions.VECTOR],\n",
    "        show=[ResourceProperties.BASIC, ResourceProperties.VALUES]\n",
    "    )\n",
    "    context_text=\"\\n\".join([results.resources[i.rid].data.texts[\"text\"].value.body for i in results.sentences.results])[0:3000]\n",
    "    return context_text\n"
   ]
  },
  {
   "cell_type": "code",
   "execution_count": 178,
   "id": "6e0bf659",
   "metadata": {},
   "outputs": [
    {
     "name": "stdout",
     "output_type": "stream",
     "text": [
      "Running on local URL:  http://127.0.0.1:7865\n",
      "\n",
      "To create a public link, set `share=True` in `launch()`.\n"
     ]
    },
    {
     "data": {
      "text/html": [
       "<div><iframe src=\"http://127.0.0.1:7865/\" width=\"100%\" height=\"500\" allow=\"autoplay; camera; microphone; clipboard-read; clipboard-write;\" frameborder=\"0\" allowfullscreen></iframe></div>"
      ],
      "text/plain": [
       "<IPython.core.display.HTML object>"
      ]
     },
     "metadata": {},
     "output_type": "display_data"
    },
    {
     "data": {
      "text/plain": []
     },
     "execution_count": 178,
     "metadata": {},
     "output_type": "execute_result"
    }
   ],
   "source": [
    "import gradio as gr\n",
    "\n",
    "def greet(question):\n",
    "    context=get_context(question)\n",
    "    answer=get_answer(question,context)\n",
    "    return answer.content.decode()\n",
    "\n",
    "demo = gr.Interface(fn=greet, inputs=\"text\", outputs=\"text\")\n",
    "\n",
    "demo.launch()   "
   ]
  },
  {
   "cell_type": "markdown",
   "id": "e4aa3f68",
   "metadata": {},
   "source": [
    "## What else now?\n",
    "\n",
    "**CYOA !!**\n",
    "\n",
    "Possible improvements:\n",
    "* Make your dataset bigger \n",
    "* Tune your prompt\n",
    "* Try another dataset\n",
    "* Improve the context\n",
    "* Try another retrieval model\n",
    "\n",
    "**NucliaDB** also provides full text search, so maybe combining results from both searches with an heuristic could be interesting\n",
    "\n"
   ]
  },
  {
   "cell_type": "markdown",
   "id": "9610f11e",
   "metadata": {},
   "source": [
    "## Tip\n",
    "Example of how to get fulltext search results:"
   ]
  },
  {
   "cell_type": "code",
   "execution_count": 224,
   "id": "1d46dbab",
   "metadata": {},
   "outputs": [
    {
     "name": "stdout",
     "output_type": "stream",
     "text": [
      "----- RESULT 1 -----\n",
      "Similarity score: 13.75\n",
      "Result: The problem with ordering a \"Macchiato\" is that it's only half of the name of a traditional coffee drink.\n",
      "\"Macchiato\" means \"stained\" or \"flecked\" and not more.\n",
      "In Italy, you have either \n",
      "\n",
      "Latte macchiato *Milk \"stained\" with coffee (more precisely caffè or espresso) or\n",
      "Espresso macchiato Espresso (or caffè) \"stained\" with a spoonful of milk foam.\n",
      "\n",
      "If you order a \"Macciato\" without qualifier, you will either get what the chain defines as such (for Starbucks, a lot of milk and foam with one or multiple shots of espresso) or what your barista thinks of first - and that would often be a (latte) macchiato, i.e. a glass of milk and foam with an espresso layer inbetween. \n",
      "So my recommendation is\n",
      "If you want a serving of espresso with a bit of milk, order an espresso macchiato. I just double-chec ...\n",
      "\n",
      "----- RESULT 2 -----\n",
      "Similarity score: 11.04\n",
      "Result: From what I have found the only rule to make latte macchiato is to use at least 200ml of milk for a 30ml espresso shot. \n",
      "Clearly this is mostly defined by the volume of the glass the coffee is served in and that will definitely vary from shop to shop. \n",
      "I would expect the coffee shops to use standart espresso shots but no one can be sure about this either. ...\n",
      "\n",
      "----- RESULT 3 -----\n",
      "Similarity score: 9.19\n",
      "Result: As far as the actual coffee end of matters (I have no background in behind-the-scenes business management, etc.), there are a few things to take into consideration\n",
      "\n",
      "Research your demographic. Younger? They more than like prefer espresso based milk drinks akin to Starbucks, other chain coffee shops. Middle/to older? They probably are a blend of esp.based and brewed coffee with food items. Survey and poll people you know and have connections with if any venture of this sort would be a hit or a miss for a community.\n",
      "Less is more (usually). Provide fewer option with more willingness to simply make drinks to order. Let the guests know that the menu is only a suggestion and a price guide. Have the standard staples (Espresso, Latte, Cappuccino, Cafe au Lait, Cafe Americano) add in some specialize ...\n",
      "\n",
      "----- RESULT 4 -----\n",
      "Similarity score: 6.55\n",
      "Result: Your intuition is correct, modifiers like sugar or creme will only obscure a lot of nuance so connoisseurs, professionals & judges will try new coffees or espresso as brewed without adding anything.\n",
      "Depending on the quality of coffee and a person's preferences they may sometimes add something after the initial taste. And some connoisseurs may order something like an espresso macchiato (espresso with a tiny amount of textured milk) or routinely add e.g. one sugar when drinking a coffee that they are familiar with or just for variety. But in general the better the quality of coffee and the more serious the connoisseur, the less likely they are to be adding anything to their coffee.\n",
      "Certainly if you are trying to discern what a new coffee tastes like, you shouldn't be adding anything initiall ...\n",
      "\n",
      "----- RESULT 5 -----\n",
      "Similarity score: 6.18\n",
      "Result: It's just a matter of tradition, style and skill. Traditionally the thick, hard foam with bigger bubbles is used in Italy for Cappuccini. Same goes for espresso macchiato. Sometimes the milk foam is spooned on top of the espresso. In other countries they often imitated italian style coffee, which is why e.g. in Germany the foam is usually very thick as well. In Australia they developed italian coffee culture further and usually froth more silky (and make flat whites with it).\n",
      "When it comes to skill, it is much harder to produce silky foam than the \"traditional\" foam. You have to start with cold milk, then introduce air at first, but also not too much and lastly spin the milk/foam mixture to break up big bubbles and to work the froth into the milk. In order to do all that you have to get th ...\n",
      "\n",
      "----- RESULT 6 -----\n",
      "Similarity score: 5.92\n",
      "Result: There are many, many, many types. In order to give a good overview, some background knowledge is useful. What all types of coffee have in common is that all are produced from the pits of coffee cherries, the fruits borne by trees in the genus coffea (coffee beans are technically seeds of these trees, not beans). Coffee cherries are harvested from coffee trees, the pits are removed and processed, producing green coffee beans. These are then roasted, ground, and brewed. \n",
      "Coffee can vary on any of the following factors\n",
      "Bean Variety - There are two major bean varieties of coffee arabica and robusta. Arabica coffees are more ubiquitous and generally regarded as superior in quality to robusta coffees. If you are buying coffee from a coffee shop, ordering it at a restaurant, or brewing it at home ...\n",
      "\n",
      "----- RESULT 7 -----\n",
      "Similarity score: 5.60\n",
      "Result: TL;DR; Remove the outer panarello leaving just the inner steam tip. Turn the jug at a 45 degree angle and try to get the milk to spin round in a vortex.\n",
      "Detail The panarello brings in extra air to make the frothing and steaming of the milk a much more consistent, reliable process. Unfortunately, from a latte perspective, the bubbles end up being too big and are more suited to frothy cappuccino.\n",
      "I have had this machine for two years and had given up on any chance of proper latte art. Then, in searching for supporting evidence before answering you, I found this Magnifica review where the reviewer says\n",
      "\n",
      "The popular option with domestic Espresso machines are panarello\n",
      "wands, a sheath which covers the steam pipe and introduces steam to\n",
      "the milk via holes on the side. ... They produce only large ...\n",
      "\n"
     ]
    }
   ],
   "source": [
    "def fulltext_search(query,kb):\n",
    "    results = sdk.search(\n",
    "        kbid=kb.uuid,\n",
    "        query=query,\n",
    "        show=[ResourceProperties.BASIC, ResourceProperties.VALUES]\n",
    "    )\n",
    "    return [(i.score,results.resources[i.rid].data.texts[\"text\"].value.body) for i in results.fulltext.results]\n",
    "query =\"What is a macchiato?\"\n",
    "print_results(fulltext_search(query,kb))"
   ]
  }
 ],
 "metadata": {
  "kernelspec": {
   "display_name": "Python 3 (ipykernel)",
   "language": "python",
   "name": "python3"
  },
  "language_info": {
   "codemirror_mode": {
    "name": "ipython",
    "version": 3
   },
   "file_extension": ".py",
   "mimetype": "text/x-python",
   "name": "python",
   "nbconvert_exporter": "python",
   "pygments_lexer": "ipython3",
   "version": "3.9.15"
  }
 },
 "nbformat": 4,
 "nbformat_minor": 5
}
